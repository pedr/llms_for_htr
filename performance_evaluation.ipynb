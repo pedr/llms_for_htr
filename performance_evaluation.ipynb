{
 "cells": [
  {
   "cell_type": "code",
   "execution_count": 88,
   "metadata": {},
   "outputs": [],
   "source": [
    "import requests\n",
    "import torch\n",
    "from PIL import Image\n",
    "from transformers import MllamaForConditionalGeneration, AutoProcessor\n"
   ]
  },
  {
   "cell_type": "code",
   "execution_count": 89,
   "metadata": {},
   "outputs": [
    {
     "name": "stderr",
     "output_type": "stream",
     "text": [
      "The model weights are not tied. Please use the `tie_weights` method before using the `infer_auto_device` function.\n",
      "Loading checkpoint shards: 100%|██████████| 5/5 [00:01<00:00,  4.99it/s]\n"
     ]
    }
   ],
   "source": [
    "model_id = \"meta-llama/Llama-3.2-11B-Vision-Instruct\"\n",
    "\n",
    "model = MllamaForConditionalGeneration.from_pretrained(\n",
    "    model_id,\n",
    "    torch_dtype=torch.bfloat16,\n",
    "    device_map=\"auto\",\n",
    ")\n",
    "processor = AutoProcessor.from_pretrained(model_id)"
   ]
  },
  {
   "cell_type": "code",
   "execution_count": 90,
   "metadata": {},
   "outputs": [],
   "source": [
    "default_prompt = \"\"\"\n",
    "You are a proficient OCR (Optical Character Recognition) system. Your task is to accurately extract text from provided images or text-based inputs exactly as it appears, without adding, modifying, or interpreting information. Follow these rules:\n",
    "\n",
    "- Strict Accuracy: Reproduce text verbatim, including typos, spacing, line breaks, and punctuation.\n",
    "\n",
    "- No Additions: Do not correct errors, fill in gaps, or infer context.\n",
    "\n",
    "- Handle Ambiguity: If entire words are unparseable, replace them with a single _ (e.g., ▒▒▓▓▓ → _).\n",
    "\n",
    "- Languages/Symbols: Support all languages and special characters (e.g., @, #, é, 汉字).\n",
    "\n",
    "- Language: The image is written in French, use this as the base to guess words if necessary.\n",
    "\n",
    "## Output Format:\n",
    "\n",
    "Return only the extracted text, without explanations inside the <transcribed></transcribed> tag\n",
    "\n",
    "---\n",
    "\n",
    "Begin processing:\n",
    "\"\"\""
   ]
  },
  {
   "cell_type": "code",
   "execution_count": 91,
   "metadata": {},
   "outputs": [],
   "source": [
    "few_shot_image_1 = Image.open(\"./images/fullpage-french-1.png\")\n",
    "few_shot_image_2 = Image.open(\"./images/sample_1.png\")\n",
    "\n",
    "alternative_default = [\n",
    "    { \"role\": \"system\", \"content\": [\n",
    "        {\"type\": \"text\", \"text\": default_prompt}\n",
    "    ]},\n",
    "    { \"role\": \"user\", \"content\": [\n",
    "        {\"type\": \"image\" }\n",
    "    ]},\n",
    "    {\n",
    "    \"role\": \"assistant\",\n",
    "    \"content\": [\n",
    "        {\n",
    "            \"type\": \"text\", \"text\": \"<transcribed>J'étudie français.</transcribed>\"}\n",
    "    ]},\n",
    "    { \"role\": \"user\", \"content\": [\n",
    "        {\"type\": \"image\" },\n",
    "    ]},\n",
    "    {\n",
    "    \"role\": \"assistant\",\n",
    "    \"content\": [\n",
    "        {\n",
    "            \"type\": \"text\", \"text\": \"<transcribed>Scott Joplin, né le 24 novembre 1868 au Texas, est un pianiste et compositeur afro-américain. Bien qu'ayant écrit des œuvres dans plusieurs styles, y compris le classique et l'opéra, sa notoriété tient principalement à ses compositions de musique ragtime. Sa musicalité, son talent et son importance dans l’histoire du ragtime et de la musique américaine sont exceptionnels.</transcribed>\"}\n",
    "       ],\n",
    "    }\n",
    "]"
   ]
  },
  {
   "cell_type": "code",
   "execution_count": 92,
   "metadata": {},
   "outputs": [
    {
     "name": "stdout",
     "output_type": "stream",
     "text": [
      "Image loaded ./images/fullpage-french-2.png\n"
     ]
    }
   ],
   "source": [
    "path = \"./images/fullpage-french-2.png\"\n",
    "image = Image.open(path)\n",
    "\n",
    "if image: \n",
    "    print(\"Image loaded\", path)\n",
    "\n",
    "messages = alternative_default + [\n",
    "    {\"role\": \"user\", \"content\": [\n",
    "        {\"type\": \"image\" }\n",
    "    ]}\n",
    "]"
   ]
  },
  {
   "cell_type": "code",
   "execution_count": 93,
   "metadata": {},
   "outputs": [
    {
     "name": "stdout",
     "output_type": "stream",
     "text": [
      "<|begin_of_text|><|start_header_id|>system<|end_header_id|>\n",
      "\n",
      "Cutting Knowledge Date: December 2023\n",
      "Today Date: 12 Feb 2025\n",
      "\n",
      "[{'type': 'text', 'text': '\\nYou are a proficient OCR (Optical Character Recognition) system. Your task is to accurately extract text from provided images or text-based inputs exactly as it appears, without adding, modifying, or interpreting information. Follow these rules:\\n\\n- Strict Accuracy: Reproduce text verbatim, including typos, spacing, line breaks, and punctuation.\\n\\n- No Additions: Do not correct errors, fill in gaps, or infer context.\\n\\n- Handle Ambiguity: If entire words are unparseable, replace them with a single _ (e.g., ▒▒▓▓▓ → _).\\n\\n- Languages/Symbols: Support all languages and special characters (e.g., @, #, é, 汉字).\\n\\n- Language: The image is written in French, use this as the base to guess words if necessary.\\n\\n## Output Format:\\n\\nReturn only the extracted text, without explanations inside the <transcribed></transcribed> tag\\n\\n---\\n\\nBegin processing:\\n'}]<|eot_id|><|start_header_id|>user<|end_header_id|>\n",
      "\n",
      "<|image|><|eot_id|><|start_header_id|>assistant<|end_header_id|>\n",
      "\n",
      "<transcribed>J'étudie français.</transcribed><|eot_id|><|start_header_id|>user<|end_header_id|>\n",
      "\n",
      "<|image|><|eot_id|><|start_header_id|>assistant<|end_header_id|>\n",
      "\n",
      "<transcribed>Scott Joplin, né le 24 novembre 1868 au Texas, est un pianiste et compositeur afro-américain. Bien qu'ayant écrit des œuvres dans plusieurs styles, y compris le classique et l'opéra, sa notoriété tient principalement à ses compositions de musique ragtime. Sa musicalité, son talent et son importance dans l’histoire du ragtime et de la musique américaine sont exceptionnels.</transcribed><|eot_id|><|start_header_id|>user<|end_header_id|>\n",
      "\n",
      "<|image|><|eot_id|><|start_header_id|>assistant<|end_header_id|>\n",
      "\n",
      "<transcribed>Scott Joplin, né le 24 novembre 1868 au Texas, est un pianiste et compositeur afro-américain. Bien qu'ayant écrit des œuvres dans plusieurs styles, y compris le classique et l'opéra, sa notoriété tient principalement à ses compositions de musique ragtime. Sa musicalité, son talent et son importance dans l’histoire du ragtime et de la musique américaine sont exceptionnels.</transcribed><|eot_id|>\n"
     ]
    }
   ],
   "source": [
    "input_text = processor.apply_chat_template(messages, add_generation_prompt=True)\n",
    "inputs = processor(\n",
    "    [\n",
    "        few_shot_image_2,\n",
    "        few_shot_image_1, \n",
    "        image,\n",
    "    ],\n",
    "    input_text,\n",
    "    add_special_tokens=False,\n",
    "    return_tensors=\"pt\"\n",
    ").to(model.device)\n",
    "\n",
    "output = model.generate(**inputs, max_new_tokens=2000)\n",
    "for i in output:\n",
    "    print(processor.decode(i))"
   ]
  }
 ],
 "metadata": {
  "kernelspec": {
   "display_name": "venv",
   "language": "python",
   "name": "python3"
  },
  "language_info": {
   "codemirror_mode": {
    "name": "ipython",
    "version": 3
   },
   "file_extension": ".py",
   "mimetype": "text/x-python",
   "name": "python",
   "nbconvert_exporter": "python",
   "pygments_lexer": "ipython3",
   "version": "3.11.10"
  }
 },
 "nbformat": 4,
 "nbformat_minor": 2
}
